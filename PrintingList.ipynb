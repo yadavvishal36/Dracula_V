{
 "cells": [
  {
   "cell_type": "code",
   "execution_count": 11,
   "id": "9548f322-5382-4740-b89e-d3d8eae38fbe",
   "metadata": {},
   "outputs": [],
   "source": [
    "def generate_email_addresses(sap_ids):\n",
    "    emails = []\n",
    "    \n",
    "    for sap_id in sap_ids:\n",
    "        emails.append(f\"{sap_id}@stu.upes.ac.in\")\n",
    "        return emails\n",
    "    \n",
    "    sap_ids = [59008688, 59001765]\n",
    "    result =  generate_email_addresses(sap_ids)\n",
    "    print(result)"
   ]
  },
  {
   "cell_type": "code",
   "execution_count": null,
   "id": "3732a415-3f1e-4271-8ced-5663af823b0e",
   "metadata": {},
   "outputs": [],
   "source": []
  }
 ],
 "metadata": {
  "kernelspec": {
   "display_name": "Python 3 (ipykernel)",
   "language": "python",
   "name": "python3"
  },
  "language_info": {
   "codemirror_mode": {
    "name": "ipython",
    "version": 3
   },
   "file_extension": ".py",
   "mimetype": "text/x-python",
   "name": "python",
   "nbconvert_exporter": "python",
   "pygments_lexer": "ipython3",
   "version": "3.12.4"
  }
 },
 "nbformat": 4,
 "nbformat_minor": 5
}
