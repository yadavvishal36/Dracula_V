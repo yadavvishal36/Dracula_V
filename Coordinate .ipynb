{
 "cells": [
  {
   "cell_type": "markdown",
   "metadata": {},
   "source": [
    "# we have coordinate of following we need to find distance between nodes and store the resut "
   ]
  },
  {
   "cell_type": "code",
   "execution_count": null,
   "metadata": {
    "vscode": {
     "languageId": "plaintext"
    }
   },
   "outputs": [],
   "source": [
    "O = (0,0)\n",
    "P = (1,2)\n",
    "Q = (1,4)\n",
    "R = (4,6)\n",
    "S = (7,8)\n",
    "# OR\n",
    "X = [0 1 1 4 7]\n",
    "Y = [0 2 4 6 8]\n",
    "# OR \n",
    "O1 = {x:0,y:0}\n",
    "P1 = {x:1,y:2}\n",
    "P2 = {x:1,y:4}\n",
    "P3 = {x:4,y:6}\n",
    "P4 = {x:7,y:8}\n",
    "# OR\n",
    "Points = [ {x:0,y:0}, {x:1,y:2}, {x:1,y:4}, {x:4,y:6}, {x:7,y:8}]\n"
   ]
  },
  {
   "cell_type": "code",
   "execution_count": null,
   "metadata": {
    "vscode": {
     "languageId": "plaintext"
    }
   },
   "outputs": [],
   "source": []
  }
 ],
 "metadata": {
  "language_info": {
   "name": "python"
  }
 },
 "nbformat": 4,
 "nbformat_minor": 2
}
