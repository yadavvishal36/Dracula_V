{
 "cells": [
  {
   "cell_type": "markdown",
   "metadata": {},
   "source": []
  },
  {
   "cell_type": "markdown",
   "metadata": {},
   "source": [
    "HELLO WORLD PROGRAM "
   ]
  },
  {
   "cell_type": "code",
   "execution_count": 1,
   "metadata": {},
   "outputs": [
    {
     "name": "stdout",
     "output_type": "stream",
     "text": [
      "Hello World!\n"
     ]
    }
   ],
   "source": [
    "print(\"Hello World!\")"
   ]
  },
  {
   "cell_type": "markdown",
   "metadata": {},
   "source": [
    "Write a Python program that takes a user's first and last name as input and prints them in reverse order with a space between them."
   ]
  },
  {
   "cell_type": "code",
   "execution_count": 12,
   "metadata": {},
   "outputs": [
    {
     "name": "stdout",
     "output_type": "stream",
     "text": [
      " lahsiV vadaY\n"
     ]
    }
   ],
   "source": [
    "# Taking user input\n",
    "\n",
    "a = input(\"Enter Your First Name\\t:\")\n",
    "b = input(\"Enter Your Last Name\\t:\")\n",
    "\n",
    "\n",
    "# using reverse string operation to revese the string and print the reversed values\n",
    "\n",
    "print(a[::-1] , b[::-1])\n",
    "\n"
   ]
  },
  {
   "cell_type": "code",
   "execution_count": 13,
   "metadata": {},
   "outputs": [
    {
     "name": "stdout",
     "output_type": "stream",
     "text": [
      "Vishal \n",
      "False\n"
     ]
    }
   ],
   "source": [
    "# capitalize()\tConverts the first character to upper case\n",
    "\n",
    "print(a.capitalize())\n",
    "\n",
    "# endswith()\tReturns true if the string ends with the specified value\n",
    "\n",
    "print(b.endswith(\"g\"))"
   ]
  },
  {
   "cell_type": "markdown",
   "metadata": {},
   "source": [
    "Write a Python program that takes an input number from the user, converts it to different numeric data types (integer, float, and complex), and displays the converted values."
   ]
  },
  {
   "cell_type": "code",
   "execution_count": 17,
   "metadata": {},
   "outputs": [
    {
     "name": "stdout",
     "output_type": "stream",
     "text": [
      "Integer: 69\n",
      "Float: 69.0\n",
      "Complex: (69+0j)\n"
     ]
    }
   ],
   "source": [
    "# Take input number from the user\n",
    "num = input(\"Enter a number: \")\n",
    "\n",
    "# Convert to different numeric types\n",
    "try:\n",
    "    float_num = float(num)   # Convert to float\n",
    "    int_num = int(float_num)  # Convert to integer\n",
    "    complex_num = complex(float_num)  # Convert to complex\n",
    "\n",
    "    # Display the converted values\n",
    "    print(f\"Integer: {int_num}\")\n",
    "    print(f\"Float: {float_num}\")\n",
    "    print(f\"Complex: {complex_num}\")\n",
    "\n",
    "except ValueError:\n",
    "    print(\"Invalid input! Please enter a valid numeric value.\")"
   ]
  },
  {
   "cell_type": "code",
   "execution_count": 8,
   "metadata": {},
   "outputs": [
    {
     "name": "stdout",
     "output_type": "stream",
     "text": [
      "6.0\n"
     ]
    }
   ],
   "source": [
    "# taking user input as l for length and w for width\n",
    "\n",
    "l = float(input(\"Enter the length of rectangle\"))\n",
    "w = float(input(\"Enter the width of rectangle\"))\n",
    "\n",
    "area = l*w\n",
    "\n",
    "print(f\"{area}\")"
   ]
  },
  {
   "cell_type": "code",
   "execution_count": 9,
   "metadata": {},
   "outputs": [
    {
     "name": "stdout",
     "output_type": "stream",
     "text": [
      "6.00\n"
     ]
    }
   ],
   "source": [
    "print(\"{:.2f}\".format(area))"
   ]
  },
  {
   "cell_type": "markdown",
   "metadata": {},
   "source": [
    "Write a Python script that takes three numbers as input and prints their average using the % method for string formatting.\n"
   ]
  },
  {
   "cell_type": "code",
   "execution_count": 6,
   "metadata": {},
   "outputs": [
    {
     "name": "stdout",
     "output_type": "stream",
     "text": [
      "The average of the three numbers is: 26.67\n"
     ]
    }
   ],
   "source": [
    "num1 = float(input(\"Enter the first no.\\t: \"))\n",
    "num2 = float(input(\"Enter the second no.\\t: \"))\n",
    "num3 = float(input(\"Enter the third no.\\t: \"))\n",
    "\n",
    "avg = (num1 + num2 + num3) / 3\n",
    "\n",
    "print(\"The average of the three numbers is: %.2f\" % avg)\n"
   ]
  },
  {
   "cell_type": "markdown",
   "metadata": {},
   "source": [
    "\n",
    "Write a Python program that asks the user for a number and determines whether it is positive, negative, or zero."
   ]
  },
  {
   "cell_type": "code",
   "execution_count": 5,
   "metadata": {},
   "outputs": [
    {
     "name": "stdout",
     "output_type": "stream",
     "text": [
      "The Number is Postive\n"
     ]
    }
   ],
   "source": [
    "# taking user input \n",
    "\n",
    "num=int(input(\"Enter the number: \"))\n",
    "\n",
    "# using if else statement to determine number is positive, negative or zero\n",
    "\n",
    "if (num>0):print(\"The Number is Postive\")\n",
    "elif (num==0):print(\"The Number is Zero\")\n",
    "else: print(\"The Number is Negative\")"
   ]
  },
  {
   "cell_type": "markdown",
   "metadata": {},
   "source": [
    "Implement a loop that continues to ask the user for a number until they enter 'exit'"
   ]
  },
  {
   "cell_type": "code",
   "execution_count": 4,
   "metadata": {},
   "outputs": [
    {
     "name": "stdout",
     "output_type": "stream",
     "text": [
      "Positive number\n",
      "Positive number\n",
      "Negative number\n",
      "Exiting the program.\n"
     ]
    }
   ],
   "source": [
    "while True:\n",
    "   \n",
    "    input_num = input(\"Enter a number here (or 'exit' to quit): \")\n",
    "\n",
    "    if input_num.lower() == 'exit':\n",
    "        print(\"Exiting the program.\")\n",
    "        \n",
    "        break\n",
    "\n",
    "    try:\n",
    "        \n",
    "        number = float(input_num)\n",
    "        \n",
    "        if number > 0:\n",
    "            print(\"Positive number\")\n",
    "        elif number < 0:\n",
    "            print(\"Negative number\")\n",
    "        else:\n",
    "            print(\"Zero\")\n",
    "    except ValueError:\n",
    "    \n",
    "        print(\"Invalid input. Please enter a valid number or 'exit'.\")\n",
    "        "
   ]
  },
  {
   "cell_type": "markdown",
   "metadata": {},
   "source": [
    "Create a Python script that takes two numbers as input and prints whether both numbers are even, odd, or one of each using relational and logical operators."
   ]
  },
  {
   "cell_type": "code",
   "execution_count": 2,
   "metadata": {},
   "outputs": [
    {
     "name": "stdout",
     "output_type": "stream",
     "text": [
      "One number is even, and the other is odd.\n"
     ]
    }
   ],
   "source": [
    "# Taking two numbers as input from the user\n",
    "\n",
    "num1 = int(input(\"Enter the first number: \"))\n",
    "num2 = int(input(\"Enter the second number: \"))\n",
    "\n",
    "# Checking if both numbers are even\n",
    "\n",
    "# used modulas and equality to operators to determine numbers as even or odd\n",
    "\n",
    "if num1 % 2 == 0 and num2 % 2 == 0:\n",
    "    \n",
    "    print(\"Both numbers are even.\")\n",
    "    \n",
    "    \n",
    "# Checking if both numbers are odd\n",
    "\n",
    "# used modulas and not equal to operators to determine numbers as even or odd\n",
    "\n",
    "elif num1 % 2 != 0 and num2 % 2 != 0: \n",
    "    \n",
    "    print(\"Both numbers are odd.\")\n",
    "    \n",
    " \n",
    "# If one is even and the other is odd\n",
    "else: print(\"One number is even, and the other is odd.\")"
   ]
  },
  {
   "cell_type": "markdown",
   "metadata": {},
   "source": [
    "Write a Python program that takes an integer input and prints its binary, octal, and hexadecimal equivalents using a for loop and bitwise operators.\n"
   ]
  },
  {
   "cell_type": "code",
   "execution_count": 1,
   "metadata": {},
   "outputs": [
    {
     "name": "stdout",
     "output_type": "stream",
     "text": [
      "Binary: 1100\n",
      "Octal: 14\n",
      "Hexadecimal: C\n"
     ]
    }
   ],
   "source": [
    "# Taking an integer input from the user\n",
    "number = int(input(\"Enter an integer: \"))\n",
    "\n",
    "# Convert to binary\n",
    "binary = \"\"\n",
    "n = number\n",
    "while n > 0:\n",
    "    remainder = n % 2\n",
    "    binary = str(remainder) + binary\n",
    "    n = n // 2\n",
    "\n",
    "# Convert to octal\n",
    "octal = \"\"\n",
    "n = number\n",
    "while n > 0:\n",
    "    remainder = n % 8\n",
    "    octal = str(remainder) + octal\n",
    "    n = n // 8\n",
    "\n",
    "# Convert to hexadecimal\n",
    "hexadecimal = \"\"\n",
    "n = number\n",
    "hex_digits = \"0123456789ABCDEF\"\n",
    "while n > 0:\n",
    "    remainder = n % 16\n",
    "    hexadecimal = hex_digits[remainder] + hexadecimal\n",
    "    n = n // 16\n",
    "\n",
    "# Print the results\n",
    "print(f\"Binary: {binary}\")\n",
    "print(f\"Octal: {octal}\")\n",
    "print(f\"Hexadecimal: {hexadecimal}\")"
   ]
  },
  {
   "cell_type": "code",
   "execution_count": null,
   "metadata": {},
   "outputs": [],
   "source": []
  }
 ],
 "metadata": {
  "kernelspec": {
   "display_name": "Python 3",
   "language": "python",
   "name": "python3"
  },
  "language_info": {
   "codemirror_mode": {
    "name": "ipython",
    "version": 3
   },
   "file_extension": ".py",
   "mimetype": "text/x-python",
   "name": "python",
   "nbconvert_exporter": "python",
   "pygments_lexer": "ipython3",
   "version": "3.12.4"
  }
 },
 "nbformat": 4,
 "nbformat_minor": 2
}
